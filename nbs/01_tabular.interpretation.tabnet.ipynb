{
 "cells": [
  {
   "cell_type": "code",
   "execution_count": 2,
   "metadata": {},
   "outputs": [],
   "source": [
    "# default_exp tabular.tabnet_interpretation"
   ]
  },
  {
   "cell_type": "markdown",
   "metadata": {},
   "source": [
    "# tabular.interpretation\n",
    "\n",
    "> Useful interpretation functions for tabular, such as Feature Importance"
   ]
  },
  {
   "cell_type": "code",
   "execution_count": 3,
   "metadata": {},
   "outputs": [],
   "source": [
    "#hide\n",
    "from nbdev.showdoc import *"
   ]
  },
  {
   "cell_type": "code",
   "execution_count": 25,
   "metadata": {},
   "outputs": [],
   "source": [
    "#export\n",
    "from fastai.tabular.all import *\n",
    "from scipy.cluster import hierarchy as hc\n",
    "from sklearn import manifold\n",
    "\n",
    "from fast_tabnet.core import *"
   ]
  },
  {
   "cell_type": "code",
   "execution_count": 5,
   "metadata": {},
   "outputs": [],
   "source": [
    "#export\n",
    "def base_error(err, val):\n",
    "    try: return (err-val)/err\n",
    "    except ZeroDivisionError: return np.nan"
   ]
  },
  {
   "cell_type": "code",
   "execution_count": 6,
   "metadata": {},
   "outputs": [],
   "source": [
    "#export\n",
    "@patch\n",
    "def feature_importance(x:Learner, df=None, dl=None, perm_func=base_error, metric=accuracy, bs=None, reverse=True, plot=True):\n",
    "    \"Calculate and plot the Feature Importance based on `df`\"\n",
    "    x.df = df\n",
    "    bs = bs if bs is not None else x.dls.bs\n",
    "    if df is not None:\n",
    "        dl = x.dls.test_dl(df, bs=bs)\n",
    "    else:\n",
    "        dl = x.dls[1]\n",
    "    x_names = x.dls.x_names.filter(lambda x: '_na' not in x)\n",
    "    na = x.dls.x_names.filter(lambda x: '_na' in x)\n",
    "    y = x.dls.y_names\n",
    "    orig_metrics = x.metrics\n",
    "    x.metrics = [metric]    \n",
    "    try:\n",
    "        results = _calc_feat_importance(x, dl, x_names, na, perm_func, reverse)\n",
    "        if plot:\n",
    "            _plot_importance(_ord_dic_to_df(results))\n",
    "    finally: # Restore original metrics\n",
    "        x.metrics = orig_metrics\n",
    "        \n",
    "    return results"
   ]
  },
  {
   "cell_type": "code",
   "execution_count": 7,
   "metadata": {},
   "outputs": [],
   "source": [
    "#export\n",
    "def _measure_col(learn:Learner, dl:TabDataLoader, name:str, na:list):\n",
    "    \"Measures change after column permutation\"\n",
    "    col = [name]\n",
    "    if f'{name}_na' in na: col.append(name)\n",
    "    orig = dl.items[col].values\n",
    "    perm = np.random.permutation(len(orig))\n",
    "    dl.items[col] = dl.items[col].values[perm]\n",
    "    with learn.no_bar(), learn.no_logging():\n",
    "        metric = learn.validate(dl=dl)[1]\n",
    "    dl.items[col] = orig\n",
    "    return metric"
   ]
  },
  {
   "cell_type": "code",
   "execution_count": 8,
   "metadata": {},
   "outputs": [],
   "source": [
    "#export\n",
    "def _calc_feat_importance(learn:Learner, dl:TabDataLoader, x_names:list, na:list, perm_func=base_error, reverse=True):\n",
    "    \"Calculates permutation importance by shuffling a column by `perm_func`\"\n",
    "    with learn.no_bar(), learn.no_logging():\n",
    "        base_error = learn.validate(dl=dl)[1]\n",
    "    importance = {}\n",
    "    pbar = progress_bar(x_names)\n",
    "    print(\"Calculating Permutation Importance\")\n",
    "    for col in pbar:\n",
    "        importance[col] = _measure_col(learn, dl, col, na)\n",
    "    for key, value in importance.items():\n",
    "        importance[key] = perm_func(base_error, value)\n",
    "    return OrderedDict(sorted(importance.items(), key=lambda kv: kv[1], reverse=True))"
   ]
  },
  {
   "cell_type": "code",
   "execution_count": 9,
   "metadata": {},
   "outputs": [],
   "source": [
    "#export\n",
    "def _ord_dic_to_df(dict:OrderedDict): return pd.DataFrame([[k,v] for k,v in dict.items()], columns=['feature','importance'])"
   ]
  },
  {
   "cell_type": "code",
   "execution_count": 10,
   "metadata": {},
   "outputs": [],
   "source": [
    "#export\n",
    "def _plot_importance(df:pd.DataFrame, limit=20, asc=False, **kwargs):\n",
    "    \"Plot importance with an optional limit to how many variables shown\"\n",
    "    df_copy = df.copy()\n",
    "    df_copy['feature'] = df_copy['feature'].str.slice(0,25)\n",
    "    df_copy = df_copy.sort_values(by='importance', ascending=asc)[:limit].sort_values(by='importance', ascending=not(asc))\n",
    "    ax = df_copy.plot.barh(x='feature', y='importance', sort_columns=True, **kwargs)\n",
    "    for p in ax.patches:\n",
    "        ax.annotate(f'{p.get_width():.4f}', ((p.get_width() * 1.005), p.get_y()  * 1.005))"
   ]
  },
  {
   "cell_type": "code",
   "execution_count": 11,
   "metadata": {},
   "outputs": [
    {
     "data": {
      "text/markdown": [
       "<h4 id=\"Learner.feature_importance\" class=\"doc_header\"><code>Learner.feature_importance</code><a href=\"__main__.py#L2\" class=\"source_link\" style=\"float:right\">[source]</a></h4>\n",
       "\n",
       "> <code>Learner.feature_importance</code>(**`x`**:`Learner`, **`df`**=*`None`*, **`dl`**=*`None`*, **`perm_func`**=*`'base_error'`*, **`metric`**=*`'accuracy'`*, **`bs`**=*`None`*, **`reverse`**=*`True`*, **`plot`**=*`True`*)\n",
       "\n",
       "Calculate and plot the Feature Importance based on `df`"
      ],
      "text/plain": [
       "<IPython.core.display.Markdown object>"
      ]
     },
     "metadata": {},
     "output_type": "display_data"
    }
   ],
   "source": [
    "show_doc(Learner.feature_importance)"
   ]
  },
  {
   "cell_type": "markdown",
   "metadata": {},
   "source": [
    "We can pass in sections of a `DataFrame`, but not a `DataLoader`. `perm_func` dictates how to calculate our importance, and `reverse` will determine how to sort the output"
   ]
  },
  {
   "cell_type": "code",
   "execution_count": 12,
   "metadata": {},
   "outputs": [],
   "source": [
    "#export\n",
    "def _get_top_corr(df, matrix, thresh:float=0.8):\n",
    "    corr = np.where(abs(matrix) < thresh,0,matrix)\n",
    "    idxs = []\n",
    "    for i in range(corr.shape[0]):\n",
    "        if (corr[i,:].sum() + corr[:, i].sum() > 2):\n",
    "            idxs.append(i)\n",
    "    cols = df.columns[idxs]\n",
    "    return pd.DataFrame(corr[np.ix_(idxs,idxs)], columns=cols, index=cols)"
   ]
  },
  {
   "cell_type": "code",
   "execution_count": 13,
   "metadata": {},
   "outputs": [],
   "source": [
    "#export\n",
    "def _cramers_corrected_stat(cm):\n",
    "    \"Calculates Cramers V Statistic for categorical-categorical\"\n",
    "    try: chi2 = scipy.stats.chi2_contingency(cm)[0]\n",
    "    except: return 0.0\n",
    "    \n",
    "    if chi2 == 0: return 0.0\n",
    "    n = cm.sum().sum()\n",
    "    phi2 = chi2 / n\n",
    "    r,k = cm.shape\n",
    "    phi2corr = max(0, phi2 - ((k-1)*(r-1))/(n-1))\n",
    "    rcorr = r - ((r-1)**2)/(n-1)\n",
    "    kcorr = k - ((k-1)**2)/(n-1)\n",
    "    return np.sqrt(phi2corr/min((kcorr-1), (rcorr-1)))"
   ]
  },
  {
   "cell_type": "code",
   "execution_count": 14,
   "metadata": {},
   "outputs": [],
   "source": [
    "#export\n",
    "def _get_cramer_v_matr(dl:TabDataLoader):\n",
    "    \"Calculate Cramers V statistic on every pair in `df`'s columns'\"\n",
    "    df = dl.xs\n",
    "    cols = list(df.columns)\n",
    "    corrM = np.zeros((len(cols), len(cols)))\n",
    "    for col1, col2 in progress_bar(list(itertools.combinations(cols, 2))):\n",
    "        idx1, idx2 = cols.index(col1), cols.index(col2)\n",
    "        corrM[idx1,idx2] = _cramers_corrected_stat(pd.crosstab(df[col1], df[col2]))\n",
    "        corrM[idx2, idx1] = corrM[idx1, idx2]\n",
    "    np.fill_diagonal(corrM, 1.0)\n",
    "    return corrM"
   ]
  },
  {
   "cell_type": "code",
   "execution_count": 15,
   "metadata": {},
   "outputs": [],
   "source": [
    "#export\n",
    "def _get_top_corr_dict_corrs(top_corrs):\n",
    "    cols = top_corrs.columns\n",
    "    top_corrs_np = top_corrs.to_numpy()\n",
    "    corr_dict = {}\n",
    "    for i in range(top_corrs_np.shape[0]):\n",
    "        for j in range(i+1, top_corrs_np.shape[0]):\n",
    "            if top_corrs_np[i,j] > 0:\n",
    "                corr_dict[cols[i] + ' vs ' + cols[j]] = np.round(top_corrs_np[i,j],3)\n",
    "    return OrderedDict(sorted(corr_dict.items(), key=lambda kv: abs(kv[1]), reverse=True))"
   ]
  },
  {
   "cell_type": "code",
   "execution_count": 16,
   "metadata": {},
   "outputs": [],
   "source": [
    "#export\n",
    "@patch\n",
    "def get_top_corr_dict(x:Learner, df:pd.DataFrame, thresh:float=0.8):\n",
    "    \"Grabs top pairs of correlation with a given correlation matrix on `df` filtered by `thresh`\"\n",
    "    dl = x.dls.test_dl(df)\n",
    "    matrix = _get_cramer_v_matr(dl)\n",
    "    top_corrs = _get_top_corr(df, matrix, thresh=thresh)\n",
    "    return _get_top_corr_dict_corrs(top_corrs)"
   ]
  },
  {
   "cell_type": "code",
   "execution_count": 17,
   "metadata": {},
   "outputs": [
    {
     "data": {
      "text/markdown": [
       "<h4 id=\"Learner.get_top_corr_dict\" class=\"doc_header\"><code>Learner.get_top_corr_dict</code><a href=\"__main__.py#L2\" class=\"source_link\" style=\"float:right\">[source]</a></h4>\n",
       "\n",
       "> <code>Learner.get_top_corr_dict</code>(**`x`**:`Learner`, **`df`**:`DataFrame`, **`thresh`**:`float`=*`0.8`*)\n",
       "\n",
       "Grabs top pairs of correlation with a given correlation matrix on `df` filtered by `thresh`"
      ],
      "text/plain": [
       "<IPython.core.display.Markdown object>"
      ]
     },
     "metadata": {},
     "output_type": "display_data"
    }
   ],
   "source": [
    "show_doc(Learner.get_top_corr_dict)"
   ]
  },
  {
   "cell_type": "markdown",
   "metadata": {},
   "source": [
    "This along with `plot_dendrogram` and any helper functions along the way are based upon [this](https://github.com/Pak911/fastai-tabular-interpretation/blob/master/utils.py) by Pack911 on the fastai forums. "
   ]
  },
  {
   "cell_type": "code",
   "execution_count": 18,
   "metadata": {},
   "outputs": [],
   "source": [
    "#export\n",
    "@patch\n",
    "def plot_dendrogram(x:Learner, df:pd.DataFrame, figsize=None, leaf_font_size=16):\n",
    "    \"Plots dendrogram for a calculated correlation matrix\"\n",
    "    dl = x.dls.test_dl(df)\n",
    "    matrix = _get_cramer_v_matr(dl)\n",
    "    if figsize is None:\n",
    "        figsize = (15, 0.02*leaf_font_size*len(dl.x_names))\n",
    "    corr_condensed = hc.distance.squareform(1-matrix)\n",
    "    z = hc.linkage(corr_condensed, method='average')\n",
    "    fig = plt.figure(figsize=figsize)\n",
    "    dendrogram = hc.dendrogram(z, labels=dl.x_names, orientation='left', leaf_font_size = leaf_font_size)\n",
    "    plt.show()"
   ]
  },
  {
   "cell_type": "code",
   "execution_count": 19,
   "metadata": {},
   "outputs": [
    {
     "data": {
      "text/markdown": [
       "<h4 id=\"Learner.plot_dendrogram\" class=\"doc_header\"><code>Learner.plot_dendrogram</code><a href=\"__main__.py#L2\" class=\"source_link\" style=\"float:right\">[source]</a></h4>\n",
       "\n",
       "> <code>Learner.plot_dendrogram</code>(**`x`**:`Learner`, **`df`**:`DataFrame`, **`figsize`**=*`None`*, **`leaf_font_size`**=*`16`*)\n",
       "\n",
       "Plots dendrogram for a calculated correlation matrix"
      ],
      "text/plain": [
       "<IPython.core.display.Markdown object>"
      ]
     },
     "metadata": {},
     "output_type": "display_data"
    }
   ],
   "source": [
    "show_doc(Learner.plot_dendrogram)"
   ]
  },
  {
   "cell_type": "markdown",
   "metadata": {},
   "source": [
    "## Example Usage\n",
    "\n",
    "We'll run an example on the `ADULT_SAMPLE` dataset"
   ]
  },
  {
   "cell_type": "code",
   "execution_count": 20,
   "metadata": {},
   "outputs": [],
   "source": [
    "from fastai.tabular.all import *"
   ]
  },
  {
   "cell_type": "code",
   "execution_count": 21,
   "metadata": {},
   "outputs": [],
   "source": [
    "path = untar_data(URLs.ADULT_SAMPLE)"
   ]
  },
  {
   "cell_type": "code",
   "execution_count": 22,
   "metadata": {},
   "outputs": [],
   "source": [
    "df = pd.read_csv(path/'adult.csv')\n",
    "splits = RandomSplitter()(range_of(df))\n",
    "cat_names = ['workclass', 'education', 'marital-status', 'occupation', 'relationship', 'race']\n",
    "cont_names = ['age', 'fnlwgt', 'education-num']\n",
    "procs = [Categorify, FillMissing, Normalize]\n",
    "y_names = 'salary'"
   ]
  },
  {
   "cell_type": "code",
   "execution_count": 31,
   "metadata": {},
   "outputs": [],
   "source": [
    "to = TabularPandas(df, procs=procs, cat_names=cat_names, cont_names=cont_names,\n",
    "                   y_names=y_names, splits=splits)\n",
    "dls = to.dataloaders()"
   ]
  },
  {
   "cell_type": "code",
   "execution_count": 33,
   "metadata": {},
   "outputs": [],
   "source": [
    "emb_szs = get_emb_sz(to)"
   ]
  },
  {
   "cell_type": "code",
   "execution_count": null,
   "metadata": {},
   "outputs": [],
   "source": [
    "model = TabNetModel(emb_szs, len(to.cont_names), dls.c, n_d=8, n_a=32, n_steps=1); "
   ]
  },
  {
   "cell_type": "code",
   "execution_count": 34,
   "metadata": {},
   "outputs": [],
   "source": [
    "opt_func = partial(Adam, wd=0.01, eps=1e-5)\n",
    "learn = Learner(dls, model, opt_func=opt_func, metrics=[accuracy]).to_fp32()"
   ]
  },
  {
   "cell_type": "code",
   "execution_count": 35,
   "metadata": {},
   "outputs": [
    {
     "data": {
      "text/html": [
       "<table border=\"1\" class=\"dataframe\">\n",
       "  <thead>\n",
       "    <tr style=\"text-align: left;\">\n",
       "      <th>epoch</th>\n",
       "      <th>train_loss</th>\n",
       "      <th>valid_loss</th>\n",
       "      <th>accuracy</th>\n",
       "      <th>time</th>\n",
       "    </tr>\n",
       "  </thead>\n",
       "  <tbody>\n",
       "    <tr>\n",
       "      <td>0</td>\n",
       "      <td>0.409465</td>\n",
       "      <td>0.489875</td>\n",
       "      <td>0.784705</td>\n",
       "      <td>00:24</td>\n",
       "    </tr>\n",
       "    <tr>\n",
       "      <td>1</td>\n",
       "      <td>0.389300</td>\n",
       "      <td>0.387379</td>\n",
       "      <td>0.828317</td>\n",
       "      <td>00:24</td>\n",
       "    </tr>\n",
       "  </tbody>\n",
       "</table>"
      ],
      "text/plain": [
       "<IPython.core.display.HTML object>"
      ]
     },
     "metadata": {},
     "output_type": "display_data"
    }
   ],
   "source": [
    "learn.fit_one_cycle(2,lr_max=1e-3)"
   ]
  },
  {
   "cell_type": "markdown",
   "metadata": {},
   "source": [
    "After fitting, let's first calculate the relative feature importance on the first 1,000 rows:"
   ]
  },
  {
   "cell_type": "code",
   "execution_count": 36,
   "metadata": {},
   "outputs": [],
   "source": [
    "dl = learn.dls.test_dl(df)"
   ]
  },
  {
   "cell_type": "code",
   "execution_count": 37,
   "metadata": {},
   "outputs": [
    {
     "name": "stdout",
     "output_type": "stream",
     "text": [
      "Calculating Permutation Importance\n"
     ]
    },
    {
     "data": {
      "text/html": [
       "\n",
       "    <div>\n",
       "        <style>\n",
       "            /* Turns off some styling */\n",
       "            progress {\n",
       "                /* gets rid of default border in Firefox and Opera. */\n",
       "                border: none;\n",
       "                /* Needs to be in here for Safari polyfill so background images work as expected. */\n",
       "                background-size: auto;\n",
       "            }\n",
       "            .progress-bar-interrupted, .progress-bar-interrupted::-webkit-progress-bar {\n",
       "                background: #F44336;\n",
       "            }\n",
       "        </style>\n",
       "      <progress value='9' class='' max='9' style='width:300px; height:20px; vertical-align: middle;'></progress>\n",
       "      100.00% [9/9 01:21<00:00]\n",
       "    </div>\n",
       "    "
      ],
      "text/plain": [
       "<IPython.core.display.HTML object>"
      ]
     },
     "metadata": {},
     "output_type": "display_data"
    },
    {
     "data": {
      "image/png": "[encoded data removed]",
      "text/plain": [
       "<Figure size 432x288 with 1 Axes>"
      ]
     },
     "metadata": {
      "needs_background": "light"
     },
     "output_type": "display_data"
    }
   ],
   "source": [
    "fi = learn.feature_importance(df=df)"
   ]
  },
  {
   "cell_type": "markdown",
   "metadata": {},
   "source": [
    "Next we'll calculate the correlation matrix, and then we will plot it's dendrogram:"
   ]
  },
  {
   "cell_type": "code",
   "execution_count": 38,
   "metadata": {},
   "outputs": [
    {
     "data": {
      "text/html": [
       "\n",
       "    <div>\n",
       "        <style>\n",
       "            /* Turns off some styling */\n",
       "            progress {\n",
       "                /* gets rid of default border in Firefox and Opera. */\n",
       "                border: none;\n",
       "                /* Needs to be in here for Safari polyfill so background images work as expected. */\n",
       "                background-size: auto;\n",
       "            }\n",
       "            .progress-bar-interrupted, .progress-bar-interrupted::-webkit-progress-bar {\n",
       "                background: #F44336;\n",
       "            }\n",
       "        </style>\n",
       "      <progress value='45' class='' max='45' style='width:300px; height:20px; vertical-align: middle;'></progress>\n",
       "      100.00% [45/45 01:09<00:00]\n",
       "    </div>\n",
       "    "
      ],
      "text/plain": [
       "<IPython.core.display.HTML object>"
      ]
     },
     "metadata": {},
     "output_type": "display_data"
    },
    {
     "data": {
      "text/plain": [
       "OrderedDict([('workclass vs sex', 0.991),\n",
       "             ('marital-status vs race', 0.506),\n",
       "             ('education vs occupation', 0.493),\n",
       "             ('fnlwgt vs education-num', 0.488),\n",
       "             ('age vs education', 0.397),\n",
       "             ('relationship vs race', 0.363),\n",
       "             ('education-num vs race', 0.305)])"
      ]
     },
     "execution_count": 38,
     "metadata": {},
     "output_type": "execute_result"
    }
   ],
   "source": [
    "corr_dict = learn.get_top_corr_dict(df, thresh=0.3); corr_dict"
   ]
  },
  {
   "cell_type": "code",
   "execution_count": 39,
   "metadata": {},
   "outputs": [
    {
     "data": {
      "text/html": [
       "\n",
       "    <div>\n",
       "        <style>\n",
       "            /* Turns off some styling */\n",
       "            progress {\n",
       "                /* gets rid of default border in Firefox and Opera. */\n",
       "                border: none;\n",
       "                /* Needs to be in here for Safari polyfill so background images work as expected. */\n",
       "                background-size: auto;\n",
       "            }\n",
       "            .progress-bar-interrupted, .progress-bar-interrupted::-webkit-progress-bar {\n",
       "                background: #F44336;\n",
       "            }\n",
       "        </style>\n",
       "      <progress value='45' class='' max='45' style='width:300px; height:20px; vertical-align: middle;'></progress>\n",
       "      100.00% [45/45 01:11<00:00]\n",
       "    </div>\n",
       "    "
      ],
      "text/plain": [
       "<IPython.core.display.HTML object>"
      ]
     },
     "metadata": {},
     "output_type": "display_data"
    },
    {
     "data": {
      "image/png": "[encoded data removed]",
      "text/plain": [
       "<Figure size 1080x230.4 with 1 Axes>"
      ]
     },
     "metadata": {
      "needs_background": "light"
     },
     "output_type": "display_data"
    }
   ],
   "source": [
    "learn.plot_dendrogram(df)"
   ]
  },
  {
   "cell_type": "markdown",
   "metadata": {},
   "source": [
    "This allows us to see what family of features are closesly related based on our `thresh`, and also to show (in combination with the feature importance) how our model uses each variable."
   ]
  },
  {
   "cell_type": "code",
   "execution_count": 41,
   "metadata": {},
   "outputs": [
    {
     "name": "stdout",
     "output_type": "stream",
     "text": [
      "Converted 00_inference.ipynb.\n",
      "Converted 00_soft_dependencies.ipynb.\n",
      "Converted 00a_inference.text.ipynb.\n",
      "Converted 00b_inference.export.ipynb.\n",
      "Converted 01_tabular.core.ipynb.\n",
      "Converted 01_tabular.interpretation.ipynb.\n",
      "Converted 01_tabular.interpretation.tabnet.ipynb.\n",
      "Converted 01_tabular.pd.ipynb.\n",
      "Converted 01_tabular.waterfall.ipynb.\n",
      "Converted 02_class_confusion.ipynb.\n",
      "Converted 02_shap.core.ipynb.\n",
      "Converted 02_shap.interp.ipynb.\n",
      "Converted 03_onnx.ipynb.\n",
      "Converted index.ipynb.\n"
     ]
    }
   ],
   "source": [
    "from nbdev.export import notebook2script\n",
    "notebook2script()"
   ]
  },
  {
   "cell_type": "code",
   "execution_count": null,
   "metadata": {},
   "outputs": [],
   "source": []
  }
 ],
 "metadata": {
  "kernelspec": {
   "display_name": "ab",
   "language": "python",
   "name": "ab"
  },
  "language_info": {
   "codemirror_mode": {
    "name": "ipython",
    "version": 3
   },
   "file_extension": ".py",
   "mimetype": "text/x-python",
   "name": "python",
   "nbconvert_exporter": "python",
   "pygments_lexer": "ipython3",
   "version": "3.7.6"
  }
 },
 "nbformat": 4,
 "nbformat_minor": 4
}
